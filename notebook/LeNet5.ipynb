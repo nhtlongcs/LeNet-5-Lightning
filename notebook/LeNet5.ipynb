{
  "cells": [
    {
      "cell_type": "code",
      "execution_count": 1,
      "metadata": {
        "id": "imOpA9u4sAVo"
      },
      "outputs": [],
      "source": [
        "WORKDIR='/content/workspace'\n",
        "DATADIR='/content/workspace/data'"
      ]
    },
    {
      "cell_type": "markdown",
      "metadata": {
        "id": "f1yzDDRl3sqI"
      },
      "source": [
        "## Clone repo"
      ]
    },
    {
      "cell_type": "code",
      "execution_count": 2,
      "metadata": {
        "colab": {
          "base_uri": "https://localhost:8080/"
        },
        "id": "iiyOUptAtbbj",
        "outputId": "397263ab-43ba-4696-fc64-b2da0fa7365d"
      },
      "outputs": [
        {
          "output_type": "stream",
          "name": "stdout",
          "text": [
            "Cloning into 'workspace'...\n",
            "remote: Enumerating objects: 35, done.\u001b[K\n",
            "remote: Counting objects: 100% (35/35), done.\u001b[K\n",
            "remote: Compressing objects: 100% (28/28), done.\u001b[K\n",
            "remote: Total 35 (delta 4), reused 35 (delta 4), pack-reused 0\u001b[K\n",
            "Unpacking objects: 100% (35/35), done.\n"
          ]
        }
      ],
      "source": [
        "!git clone https://github.com/nhtlongcs/LeNet-5-Lightning workspace"
      ]
    },
    {
      "cell_type": "code",
      "execution_count": 12,
      "metadata": {
        "colab": {
          "base_uri": "https://localhost:8080/"
        },
        "id": "K-AADRpmuJBz",
        "outputId": "9fe10f87-7cbb-484a-f6aa-f0f8d24ece9a"
      },
      "outputs": [
        {
          "output_type": "stream",
          "name": "stdout",
          "text": [
            "/content/workspace\n",
            "remote: Enumerating objects: 17, done.\u001b[K\n",
            "remote: Counting objects: 100% (17/17), done.\u001b[K\n",
            "remote: Compressing objects: 100% (3/3), done.\u001b[K\n",
            "remote: Total 9 (delta 5), reused 9 (delta 5), pack-reused 0\u001b[K\n",
            "Unpacking objects: 100% (9/9), done.\n",
            "From https://github.com/nhtlongcs/LeNet-5-Lightning\n",
            "   b5f6f9d..32502a7  master     -> origin/master\n",
            "Updating b5f6f9d..32502a7\n",
            "error: Your local changes to the following files would be overwritten by merge:\n",
            "\ttools/test.sh\n",
            "Please commit your changes or stash them before you merge.\n",
            "Aborting\n",
            "M\ttools/test.sh\n",
            "Already on 'master'\n",
            "Your branch is behind 'origin/master' by 1 commit, and can be fast-forwarded.\n",
            "  (use \"git pull\" to update your local branch)\n",
            "HEAD is now at b5f6f9d fix\n",
            "Updating b5f6f9d..32502a7\n",
            "Fast-forward\n",
            " configs/lenet.yml      | 2 \u001b[32m+\u001b[m\u001b[31m-\u001b[m\n",
            " src/models/abstract.py | 9 \u001b[32m+++++\u001b[m\u001b[31m----\u001b[m\n",
            " tools/test.sh          | 2 \u001b[32m+\u001b[m\u001b[31m-\u001b[m\n",
            " 3 files changed, 7 insertions(+), 6 deletions(-)\n"
          ]
        }
      ],
      "source": [
        "%cd $WORKDIR\n",
        "!git pull\n",
        "!git checkout master\n",
        "!git reset --hard HEAD\n",
        "!git pull"
      ]
    },
    {
      "cell_type": "code",
      "execution_count": 7,
      "metadata": {
        "id": "7mGu6RqhJGYU"
      },
      "outputs": [],
      "source": [
        "%%capture\n",
        "%cd $WORKDIR\n",
        "!pip install -r requirements.txt"
      ]
    },
    {
      "cell_type": "code",
      "execution_count": 5,
      "metadata": {
        "id": "vqaRT-m1BT76",
        "colab": {
          "base_uri": "https://localhost:8080/"
        },
        "outputId": "1847ee8e-c931-48d5-c708-8010a8facff9"
      },
      "outputs": [
        {
          "output_type": "stream",
          "name": "stdout",
          "text": [
            "Obtaining file:///content/workspace\n",
            "Installing collected packages: cv-course\n",
            "  Running setup.py develop for cv-course\n",
            "Successfully installed cv-course-0.0\n"
          ]
        }
      ],
      "source": [
        "!pip install -e . "
      ]
    },
    {
      "cell_type": "markdown",
      "metadata": {
        "id": "4Q7nlrsOKfAj"
      },
      "source": [
        "## Training guide\n"
      ]
    },
    {
      "cell_type": "code",
      "source": [
        "WANDB_TOKEN=''"
      ],
      "metadata": {
        "id": "J66kJ7f31RkS"
      },
      "execution_count": 13,
      "outputs": []
    },
    {
      "cell_type": "code",
      "execution_count": 14,
      "metadata": {
        "colab": {
          "base_uri": "https://localhost:8080/"
        },
        "id": "B6C8153GMxKA",
        "outputId": "602b80bb-ecfe-4fe7-86ba-4bdf5c1e6e02"
      },
      "outputs": [
        {
          "output_type": "stream",
          "name": "stdout",
          "text": [
            "\u001b[34m\u001b[1mwandb\u001b[0m: Appending key for api.wandb.ai to your netrc file: /root/.netrc\n"
          ]
        }
      ],
      "source": [
        "!wandb login --relogin $WANDB_TOKEN"
      ]
    },
    {
      "cell_type": "code",
      "execution_count": 15,
      "metadata": {
        "colab": {
          "base_uri": "https://localhost:8080/"
        },
        "id": "xPV1JRl7KiJJ",
        "outputId": "fe84a31e-29eb-4017-d896-e78ff5bdc3ab"
      },
      "outputs": [
        {
          "output_type": "stream",
          "name": "stdout",
          "text": [
            "/content/workspace\n",
            "Overriding configurating\n",
            "Global seed set to 1337\n",
            "\u001b[34m\u001b[1mwandb\u001b[0m: Currently logged in as: \u001b[33mnhtlong\u001b[0m (use `wandb login --relogin` to force relogin)\n",
            "\u001b[34m\u001b[1mwandb\u001b[0m: Tracking run with wandb version 0.12.11\n",
            "\u001b[34m\u001b[1mwandb\u001b[0m: Run data is saved locally in \u001b[35m\u001b[1m./runs/wandb/run-20220404_183552-3lhzb1ls\u001b[0m\n",
            "\u001b[34m\u001b[1mwandb\u001b[0m: Run \u001b[1m`wandb offline`\u001b[0m to turn off syncing.\n",
            "\u001b[34m\u001b[1mwandb\u001b[0m: Syncing run \u001b[33mLeNet-2022_04_04-18_35_51\u001b[0m\n",
            "\u001b[34m\u001b[1mwandb\u001b[0m: ⭐️ View project at \u001b[34m\u001b[4mhttps://wandb.ai/nhtlong/vnu-tgmt\u001b[0m\n",
            "\u001b[34m\u001b[1mwandb\u001b[0m: 🚀 View run at \u001b[34m\u001b[4mhttps://wandb.ai/nhtlong/vnu-tgmt/runs/3lhzb1ls\u001b[0m\n",
            "Using 16bit native Automatic Mixed Precision (AMP)\n",
            "GPU available: True, used: True\n",
            "TPU available: False, using: 0 TPU cores\n",
            "IPU available: False, using: 0 IPUs\n",
            "HPU available: False, using: 0 HPUs\n",
            "LOCAL_RANK: 0 - CUDA_VISIBLE_DEVICES: [0]\n",
            "\n",
            "  | Name       | Type             | Params\n",
            "------------------------------------------------\n",
            "0 | conv1      | Conv2d           | 156   \n",
            "1 | max_pool_1 | MaxPool2d        | 0     \n",
            "2 | conv2      | Conv2d           | 2.4 K \n",
            "3 | max_pool_2 | MaxPool2d        | 0     \n",
            "4 | fc1        | Linear           | 48.1 K\n",
            "5 | fc2        | Linear           | 10.2 K\n",
            "6 | fc3        | Linear           | 850   \n",
            "7 | loss       | CrossEntropyLoss | 0     \n",
            "------------------------------------------------\n",
            "61.7 K    Trainable params\n",
            "0         Non-trainable params\n",
            "61.7 K    Total params\n",
            "0.123     Total estimated model params size (MB)\n",
            "Epoch 0:  90% 210/234 [00:07<00:00, 28.60it/s, loss=0.32, v_num=b1ls] \n",
            "Validation: 0it [00:00, ?it/s]\u001b[A\n",
            "Validation DataLoader 0:   0% 0/24 [00:00<?, ?it/s]\u001b[A\n",
            "Epoch 0:  98% 230/234 [00:08<00:00, 28.66it/s, loss=0.32, v_num=b1ls]\n",
            "Epoch 0: 100% 234/234 [00:08<00:00, 28.86it/s, loss=0.32, v_num=b1ls]\n",
            "Epoch 0: 100% 234/234 [00:08<00:00, 28.85it/s, loss=0.32, v_num=b1ls]Epoch 0, global step 210: 'val_Accuracy' reached 90.30000 (best 90.30000), saving model to './runs/vnu-tgmt/3lhzb1ls/checkpoints/Lenet-epoch=0-val_Accuracy=90.3000.ckpt' as top 3\n",
            "Epoch 1:  90% 210/234 [00:16<00:01, 13.12it/s, loss=0.216, v_num=b1ls]\n",
            "Validation: 0it [00:00, ?it/s]\u001b[A\n",
            "Validation DataLoader 0:   0% 0/24 [00:00<?, ?it/s]\u001b[A\n",
            "Epoch 1:  98% 230/234 [00:16<00:00, 13.78it/s, loss=0.216, v_num=b1ls]\n",
            "Epoch 1: 100% 234/234 [00:16<00:00, 13.95it/s, loss=0.216, v_num=b1ls]\n",
            "Epoch 1: 100% 234/234 [00:16<00:00, 13.95it/s, loss=0.216, v_num=b1ls]Epoch 1, global step 420: 'val_Accuracy' reached 93.60000 (best 93.60000), saving model to './runs/vnu-tgmt/3lhzb1ls/checkpoints/Lenet-epoch=1-val_Accuracy=93.6000.ckpt' as top 3\n",
            "Epoch 2:  90% 210/234 [00:24<00:02,  8.58it/s, loss=0.15, v_num=b1ls] \n",
            "Validation: 0it [00:00, ?it/s]\u001b[A\n",
            "Validation DataLoader 0:   0% 0/24 [00:00<?, ?it/s]\u001b[A\n",
            "Epoch 2:  98% 230/234 [00:25<00:00,  9.15it/s, loss=0.15, v_num=b1ls]\n",
            "Epoch 2: 100% 234/234 [00:25<00:00,  9.27it/s, loss=0.15, v_num=b1ls]\n",
            "Epoch 2: 100% 234/234 [00:25<00:00,  9.27it/s, loss=0.15, v_num=b1ls]Epoch 2, global step 630: 'val_Accuracy' reached 94.81667 (best 94.81667), saving model to './runs/vnu-tgmt/3lhzb1ls/checkpoints/Lenet-epoch=2-val_Accuracy=94.8167.ckpt' as top 3\n",
            "Epoch 3:  90% 210/234 [00:33<00:03,  6.35it/s, loss=0.133, v_num=b1ls]\n",
            "Validation: 0it [00:00, ?it/s]\u001b[A\n",
            "Validation DataLoader 0:   0% 0/24 [00:00<?, ?it/s]\u001b[A\n",
            "Epoch 3:  98% 230/234 [00:33<00:00,  6.81it/s, loss=0.133, v_num=b1ls]\n",
            "Epoch 3: 100% 234/234 [00:33<00:00,  6.91it/s, loss=0.133, v_num=b1ls]\n",
            "Epoch 3: 100% 234/234 [00:33<00:00,  6.91it/s, loss=0.133, v_num=b1ls]Epoch 3, global step 840: 'val_Accuracy' reached 96.28333 (best 96.28333), saving model to './runs/vnu-tgmt/3lhzb1ls/checkpoints/Lenet-epoch=3-val_Accuracy=96.2833.ckpt' as top 3\n",
            "Epoch 4:  90% 210/234 [00:41<00:04,  5.05it/s, loss=0.0926, v_num=b1ls]\n",
            "Validation: 0it [00:00, ?it/s]\u001b[A\n",
            "Validation DataLoader 0:   0% 0/24 [00:00<?, ?it/s]\u001b[A\n",
            "Epoch 4:  98% 230/234 [00:42<00:00,  5.44it/s, loss=0.0926, v_num=b1ls]\n",
            "Epoch 4: 100% 234/234 [00:42<00:00,  5.52it/s, loss=0.0926, v_num=b1ls]\n",
            "Epoch 4: 100% 234/234 [00:42<00:00,  5.52it/s, loss=0.0926, v_num=b1ls]Epoch 4, global step 1050: 'val_Accuracy' reached 96.71667 (best 96.71667), saving model to './runs/vnu-tgmt/3lhzb1ls/checkpoints/Lenet-epoch=4-val_Accuracy=96.7167.ckpt' as top 3\n",
            "Epoch 5:  90% 210/234 [00:50<00:05,  4.20it/s, loss=0.0843, v_num=b1ls]\n",
            "Validation: 0it [00:00, ?it/s]\u001b[A\n",
            "Validation DataLoader 0:   0% 0/24 [00:00<?, ?it/s]\u001b[A\n",
            "Epoch 5:  98% 230/234 [00:50<00:00,  4.54it/s, loss=0.0843, v_num=b1ls]\n",
            "Epoch 5: 100% 234/234 [00:50<00:00,  4.61it/s, loss=0.0843, v_num=b1ls]\n",
            "Epoch 5: 100% 234/234 [00:50<00:00,  4.61it/s, loss=0.0843, v_num=b1ls]Epoch 5, global step 1260: 'val_Accuracy' reached 97.55000 (best 97.55000), saving model to './runs/vnu-tgmt/3lhzb1ls/checkpoints/Lenet-epoch=5-val_Accuracy=97.5500.ckpt' as top 3\n",
            "Epoch 6:  90% 210/234 [00:58<00:06,  3.59it/s, loss=0.0788, v_num=b1ls]\n",
            "Validation: 0it [00:00, ?it/s]\u001b[A\n",
            "Validation DataLoader 0:   0% 0/24 [00:00<?, ?it/s]\u001b[A\n",
            "Epoch 6:  98% 230/234 [00:59<00:01,  3.89it/s, loss=0.0788, v_num=b1ls]\n",
            "Epoch 6: 100% 234/234 [00:59<00:00,  3.95it/s, loss=0.0788, v_num=b1ls]\n",
            "Epoch 6: 100% 234/234 [00:59<00:00,  3.95it/s, loss=0.0788, v_num=b1ls]Epoch 6, global step 1470: 'val_Accuracy' reached 97.90000 (best 97.90000), saving model to './runs/vnu-tgmt/3lhzb1ls/checkpoints/Lenet-epoch=6-val_Accuracy=97.9000.ckpt' as top 3\n",
            "Epoch 7:  90% 210/234 [01:06<00:07,  3.14it/s, loss=0.062, v_num=b1ls] \n",
            "Validation: 0it [00:00, ?it/s]\u001b[A\n",
            "Validation DataLoader 0:   0% 0/24 [00:00<?, ?it/s]\u001b[A\n",
            "Epoch 7:  98% 230/234 [01:07<00:01,  3.40it/s, loss=0.062, v_num=b1ls]\n",
            "Epoch 7: 100% 234/234 [01:07<00:00,  3.45it/s, loss=0.062, v_num=b1ls]\n",
            "Epoch 7: 100% 234/234 [01:07<00:00,  3.45it/s, loss=0.062, v_num=b1ls]Epoch 7, global step 1680: 'val_Accuracy' reached 97.71667 (best 97.90000), saving model to './runs/vnu-tgmt/3lhzb1ls/checkpoints/Lenet-epoch=7-val_Accuracy=97.7167.ckpt' as top 3\n",
            "Epoch 8:  90% 210/234 [01:15<00:08,  2.78it/s, loss=0.0665, v_num=b1ls]\n",
            "Validation: 0it [00:00, ?it/s]\u001b[A\n",
            "Validation DataLoader 0:   0% 0/24 [00:00<?, ?it/s]\u001b[A\n",
            "Epoch 8:  98% 230/234 [01:16<00:01,  3.02it/s, loss=0.0665, v_num=b1ls]\n",
            "Epoch 8: 100% 234/234 [01:16<00:00,  3.07it/s, loss=0.0665, v_num=b1ls]\n",
            "Epoch 8: 100% 234/234 [01:16<00:00,  3.07it/s, loss=0.0665, v_num=b1ls]Epoch 8, global step 1890: 'val_Accuracy' reached 97.63333 (best 97.90000), saving model to './runs/vnu-tgmt/3lhzb1ls/checkpoints/Lenet-epoch=8-val_Accuracy=97.6333.ckpt' as top 3\n",
            "Epoch 9:  90% 210/234 [01:24<00:09,  2.49it/s, loss=0.0541, v_num=b1ls]\n",
            "Validation: 0it [00:00, ?it/s]\u001b[A\n",
            "Validation DataLoader 0:   0% 0/24 [00:00<?, ?it/s]\u001b[A\n",
            "Epoch 9:  98% 230/234 [01:25<00:01,  2.70it/s, loss=0.0541, v_num=b1ls]\n",
            "Epoch 9: 100% 234/234 [01:25<00:00,  2.75it/s, loss=0.0541, v_num=b1ls]\n",
            "Epoch 9: 100% 234/234 [01:25<00:00,  2.75it/s, loss=0.0541, v_num=b1ls]Epoch 9, global step 2100: 'val_Accuracy' reached 98.21667 (best 98.21667), saving model to './runs/vnu-tgmt/3lhzb1ls/checkpoints/Lenet-epoch=9-val_Accuracy=98.2167.ckpt' as top 3\n",
            "Epoch 10:  90% 210/234 [01:32<00:10,  2.26it/s, loss=0.051, v_num=b1ls] \n",
            "Validation: 0it [00:00, ?it/s]\u001b[A\n",
            "Validation DataLoader 0:   0% 0/24 [00:00<?, ?it/s]\u001b[A\n",
            "Epoch 10:  98% 230/234 [01:33<00:01,  2.46it/s, loss=0.051, v_num=b1ls]\n",
            "Epoch 10: 100% 234/234 [01:33<00:00,  2.50it/s, loss=0.051, v_num=b1ls]\n",
            "Epoch 10: 100% 234/234 [01:33<00:00,  2.50it/s, loss=0.051, v_num=b1ls]Epoch 10, global step 2310: 'val_Accuracy' reached 98.26667 (best 98.26667), saving model to './runs/vnu-tgmt/3lhzb1ls/checkpoints/Lenet-epoch=10-val_Accuracy=98.2667.ckpt' as top 3\n",
            "Epoch 11:  90% 210/234 [01:41<00:11,  2.07it/s, loss=0.0566, v_num=b1ls]\n",
            "Validation: 0it [00:00, ?it/s]\u001b[A\n",
            "Validation DataLoader 0:   0% 0/24 [00:00<?, ?it/s]\u001b[A\n",
            "Epoch 11:  98% 230/234 [01:42<00:01,  2.25it/s, loss=0.0566, v_num=b1ls]\n",
            "Epoch 11: 100% 234/234 [01:42<00:00,  2.29it/s, loss=0.0566, v_num=b1ls]\n",
            "Epoch 11: 100% 234/234 [01:42<00:00,  2.29it/s, loss=0.0566, v_num=b1ls]Epoch 11, global step 2520: 'val_Accuracy' reached 98.20000 (best 98.26667), saving model to './runs/vnu-tgmt/3lhzb1ls/checkpoints/Lenet-epoch=11-val_Accuracy=98.2000.ckpt' as top 3\n",
            "Epoch 12:  90% 210/234 [01:49<00:12,  1.91it/s, loss=0.054, v_num=b1ls] \n",
            "Validation: 0it [00:00, ?it/s]\u001b[A\n",
            "Validation DataLoader 0:   0% 0/24 [00:00<?, ?it/s]\u001b[A\n",
            "Epoch 12:  98% 230/234 [01:50<00:01,  2.08it/s, loss=0.054, v_num=b1ls]\n",
            "Epoch 12: 100% 234/234 [01:50<00:00,  2.12it/s, loss=0.054, v_num=b1ls]\n",
            "Epoch 12: 100% 234/234 [01:50<00:00,  2.12it/s, loss=0.054, v_num=b1ls]Epoch 12, global step 2730: 'val_Accuracy' reached 98.30000 (best 98.30000), saving model to './runs/vnu-tgmt/3lhzb1ls/checkpoints/Lenet-epoch=12-val_Accuracy=98.3000.ckpt' as top 3\n",
            "Epoch 13:  90% 210/234 [01:58<00:13,  1.78it/s, loss=0.0414, v_num=b1ls]\n",
            "Validation: 0it [00:00, ?it/s]\u001b[A\n",
            "Validation DataLoader 0:   0% 0/24 [00:00<?, ?it/s]\u001b[A\n",
            "Epoch 13:  98% 230/234 [01:59<00:02,  1.93it/s, loss=0.0414, v_num=b1ls]\n",
            "Epoch 13: 100% 234/234 [01:59<00:00,  1.96it/s, loss=0.0414, v_num=b1ls]\n",
            "Epoch 13: 100% 234/234 [01:59<00:00,  1.96it/s, loss=0.0414, v_num=b1ls]Epoch 13, global step 2940: 'val_Accuracy' reached 98.48333 (best 98.48333), saving model to './runs/vnu-tgmt/3lhzb1ls/checkpoints/Lenet-epoch=13-val_Accuracy=98.4833.ckpt' as top 3\n",
            "Epoch 14:  90% 210/234 [02:06<00:14,  1.65it/s, loss=0.0426, v_num=b1ls]\n",
            "Validation: 0it [00:00, ?it/s]\u001b[A\n",
            "Validation DataLoader 0:   0% 0/24 [00:00<?, ?it/s]\u001b[A\n",
            "Epoch 14:  98% 230/234 [02:07<00:02,  1.80it/s, loss=0.0426, v_num=b1ls]\n",
            "Epoch 14: 100% 234/234 [02:07<00:00,  1.83it/s, loss=0.0426, v_num=b1ls]\n",
            "Epoch 14: 100% 234/234 [02:07<00:00,  1.83it/s, loss=0.0426, v_num=b1ls]Epoch 14, global step 3150: 'val_Accuracy' reached 98.51667 (best 98.51667), saving model to './runs/vnu-tgmt/3lhzb1ls/checkpoints/Lenet-epoch=14-val_Accuracy=98.5167.ckpt' as top 3\n",
            "Epoch 15:  90% 210/234 [02:15<00:15,  1.55it/s, loss=0.0407, v_num=b1ls]\n",
            "Validation: 0it [00:00, ?it/s]\u001b[A\n",
            "Validation DataLoader 0:   0% 0/24 [00:00<?, ?it/s]\u001b[A\n",
            "Epoch 15:  98% 230/234 [02:16<00:02,  1.69it/s, loss=0.0407, v_num=b1ls]\n",
            "Epoch 15: 100% 234/234 [02:16<00:00,  1.72it/s, loss=0.0407, v_num=b1ls]\n",
            "Epoch 15: 100% 234/234 [02:16<00:00,  1.72it/s, loss=0.0407, v_num=b1ls]Epoch 15, global step 3360: 'val_Accuracy' reached 98.45000 (best 98.51667), saving model to './runs/vnu-tgmt/3lhzb1ls/checkpoints/Lenet-epoch=15-val_Accuracy=98.4500.ckpt' as top 3\n",
            "Epoch 16:  90% 210/234 [02:23<00:16,  1.46it/s, loss=0.0402, v_num=b1ls]\n",
            "Validation: 0it [00:00, ?it/s]\u001b[A\n",
            "Validation DataLoader 0:   0% 0/24 [00:00<?, ?it/s]\u001b[A\n",
            "Epoch 16:  98% 230/234 [02:24<00:02,  1.59it/s, loss=0.0402, v_num=b1ls]\n",
            "Epoch 16: 100% 234/234 [02:24<00:00,  1.62it/s, loss=0.0402, v_num=b1ls]\n",
            "Epoch 16: 100% 234/234 [02:24<00:00,  1.62it/s, loss=0.0402, v_num=b1ls]Epoch 16, global step 3570: 'val_Accuracy' reached 98.46667 (best 98.51667), saving model to './runs/vnu-tgmt/3lhzb1ls/checkpoints/Lenet-epoch=16-val_Accuracy=98.4667.ckpt' as top 3\n",
            "Epoch 17:  90% 210/234 [02:32<00:17,  1.38it/s, loss=0.0306, v_num=b1ls]\n",
            "Validation: 0it [00:00, ?it/s]\u001b[A\n",
            "Validation DataLoader 0:   0% 0/24 [00:00<?, ?it/s]\u001b[A\n",
            "Epoch 17:  98% 230/234 [02:33<00:02,  1.50it/s, loss=0.0306, v_num=b1ls]\n",
            "Epoch 17: 100% 234/234 [02:33<00:00,  1.53it/s, loss=0.0306, v_num=b1ls]\n",
            "Epoch 17: 100% 234/234 [02:33<00:00,  1.53it/s, loss=0.0306, v_num=b1ls]Epoch 17, global step 3780: 'val_Accuracy' reached 98.61667 (best 98.61667), saving model to './runs/vnu-tgmt/3lhzb1ls/checkpoints/Lenet-epoch=17-val_Accuracy=98.6167.ckpt' as top 3\n",
            "Epoch 18:  90% 210/234 [02:41<00:18,  1.30it/s, loss=0.039, v_num=b1ls] \n",
            "Validation: 0it [00:00, ?it/s]\u001b[A\n",
            "Validation DataLoader 0:   0% 0/24 [00:00<?, ?it/s]\u001b[A\n",
            "Epoch 18:  98% 230/234 [02:41<00:02,  1.42it/s, loss=0.039, v_num=b1ls]\n",
            "Epoch 18: 100% 234/234 [02:41<00:00,  1.45it/s, loss=0.039, v_num=b1ls]\n",
            "Epoch 18: 100% 234/234 [02:41<00:00,  1.45it/s, loss=0.039, v_num=b1ls]Epoch 18, global step 3990: 'val_Accuracy' was not in top 3\n",
            "Epoch 19:  90% 210/234 [02:49<00:19,  1.24it/s, loss=0.0298, v_num=b1ls]\n",
            "Validation: 0it [00:00, ?it/s]\u001b[A\n",
            "Validation DataLoader 0:   0% 0/24 [00:00<?, ?it/s]\u001b[A\n",
            "Epoch 19:  98% 230/234 [02:50<00:02,  1.35it/s, loss=0.0298, v_num=b1ls]\n",
            "Epoch 19: 100% 234/234 [02:50<00:00,  1.38it/s, loss=0.0298, v_num=b1ls]\n",
            "Epoch 19: 100% 234/234 [02:50<00:00,  1.38it/s, loss=0.0298, v_num=b1ls]Epoch 19, global step 4200: 'val_Accuracy' reached 98.56667 (best 98.61667), saving model to './runs/vnu-tgmt/3lhzb1ls/checkpoints/Lenet-epoch=19-val_Accuracy=98.5667.ckpt' as top 3\n",
            "Epoch 20:  90% 210/234 [02:57<00:20,  1.18it/s, loss=0.0309, v_num=b1ls]\n",
            "Validation: 0it [00:00, ?it/s]\u001b[A\n",
            "Validation DataLoader 0:   0% 0/24 [00:00<?, ?it/s]\u001b[A\n",
            "Epoch 20:  98% 230/234 [02:58<00:03,  1.29it/s, loss=0.0309, v_num=b1ls]\n",
            "Epoch 20: 100% 234/234 [02:58<00:00,  1.31it/s, loss=0.0309, v_num=b1ls]\n",
            "Epoch 20: 100% 234/234 [02:58<00:00,  1.31it/s, loss=0.0309, v_num=b1ls]Epoch 20, global step 4410: 'val_Accuracy' reached 98.60000 (best 98.61667), saving model to './runs/vnu-tgmt/3lhzb1ls/checkpoints/Lenet-epoch=20-val_Accuracy=98.6000.ckpt' as top 3\n",
            "Epoch 21:  90% 210/234 [03:06<00:21,  1.13it/s, loss=0.0307, v_num=b1ls]\n",
            "Validation: 0it [00:00, ?it/s]\u001b[A\n",
            "Validation DataLoader 0:   0% 0/24 [00:00<?, ?it/s]\u001b[A\n",
            "Epoch 21:  98% 230/234 [03:07<00:03,  1.23it/s, loss=0.0307, v_num=b1ls]\n",
            "Epoch 21: 100% 234/234 [03:07<00:00,  1.25it/s, loss=0.0307, v_num=b1ls]\n",
            "Epoch 21: 100% 234/234 [03:07<00:00,  1.25it/s, loss=0.0307, v_num=b1ls]Epoch 21, global step 4620: 'val_Accuracy' reached 98.63333 (best 98.63333), saving model to './runs/vnu-tgmt/3lhzb1ls/checkpoints/Lenet-epoch=21-val_Accuracy=98.6333.ckpt' as top 3\n",
            "Epoch 22:  90% 210/234 [03:15<00:22,  1.08it/s, loss=0.0248, v_num=b1ls]\n",
            "Validation: 0it [00:00, ?it/s]\u001b[A\n",
            "Validation DataLoader 0:   0% 0/24 [00:00<?, ?it/s]\u001b[A\n",
            "Epoch 22:  98% 230/234 [03:15<00:03,  1.18it/s, loss=0.0248, v_num=b1ls]\n",
            "Epoch 22: 100% 234/234 [03:15<00:00,  1.19it/s, loss=0.0248, v_num=b1ls]\n",
            "Epoch 22: 100% 234/234 [03:15<00:00,  1.19it/s, loss=0.0248, v_num=b1ls]Epoch 22, global step 4830: 'val_Accuracy' reached 98.68333 (best 98.68333), saving model to './runs/vnu-tgmt/3lhzb1ls/checkpoints/Lenet-epoch=22-val_Accuracy=98.6833.ckpt' as top 3\n",
            "Epoch 23:  90% 210/234 [03:23<00:23,  1.03it/s, loss=0.0344, v_num=b1ls]\n",
            "Validation: 0it [00:00, ?it/s]\u001b[A\n",
            "Validation DataLoader 0:   0% 0/24 [00:00<?, ?it/s]\u001b[A\n",
            "Epoch 23:  98% 230/234 [03:24<00:03,  1.13it/s, loss=0.0344, v_num=b1ls]\n",
            "Epoch 23: 100% 234/234 [03:24<00:00,  1.14it/s, loss=0.0344, v_num=b1ls]\n",
            "Epoch 23: 100% 234/234 [03:24<00:00,  1.14it/s, loss=0.0344, v_num=b1ls]Epoch 23, global step 5040: 'val_Accuracy' was not in top 3\n",
            "Epoch 24:  90% 210/234 [03:31<00:24,  1.01s/it, loss=0.019, v_num=b1ls] \n",
            "Validation: 0it [00:00, ?it/s]\u001b[A\n",
            "Validation DataLoader 0:   0% 0/24 [00:00<?, ?it/s]\u001b[A\n",
            "Epoch 24:  98% 230/234 [03:32<00:03,  1.08it/s, loss=0.019, v_num=b1ls]\n",
            "Epoch 24: 100% 234/234 [03:32<00:00,  1.10it/s, loss=0.019, v_num=b1ls]\n",
            "Epoch 24: 100% 234/234 [03:32<00:00,  1.10it/s, loss=0.019, v_num=b1ls]Epoch 24, global step 5250: 'val_Accuracy' was not in top 3\n",
            "Epoch 25:  90% 210/234 [03:40<00:25,  1.05s/it, loss=0.0185, v_num=b1ls]\n",
            "Validation: 0it [00:00, ?it/s]\u001b[A\n",
            "Validation DataLoader 0:   0% 0/24 [00:00<?, ?it/s]\u001b[A\n",
            "Epoch 25:  98% 230/234 [03:40<00:03,  1.04it/s, loss=0.0185, v_num=b1ls]\n",
            "Epoch 25: 100% 234/234 [03:40<00:00,  1.06it/s, loss=0.0185, v_num=b1ls]\n",
            "Epoch 25: 100% 234/234 [03:40<00:00,  1.06it/s, loss=0.0185, v_num=b1ls]Epoch 25, global step 5460: 'val_Accuracy' reached 98.66667 (best 98.68333), saving model to './runs/vnu-tgmt/3lhzb1ls/checkpoints/Lenet-epoch=25-val_Accuracy=98.6667.ckpt' as top 3\n",
            "Epoch 26:  90% 210/234 [03:48<00:26,  1.09s/it, loss=0.024, v_num=b1ls] \n",
            "Validation: 0it [00:00, ?it/s]\u001b[A\n",
            "Validation DataLoader 0:   0% 0/24 [00:00<?, ?it/s]\u001b[A\n",
            "Epoch 26:  98% 230/234 [03:49<00:03,  1.00it/s, loss=0.024, v_num=b1ls]\n",
            "Epoch 26: 100% 234/234 [03:49<00:00,  1.02it/s, loss=0.024, v_num=b1ls]\n",
            "Epoch 26: 100% 234/234 [03:49<00:00,  1.02it/s, loss=0.024, v_num=b1ls]Epoch 26, global step 5670: 'val_Accuracy' reached 98.65000 (best 98.68333), saving model to './runs/vnu-tgmt/3lhzb1ls/checkpoints/Lenet-epoch=26-val_Accuracy=98.6500.ckpt' as top 3\n",
            "Epoch 27:  90% 210/234 [03:57<00:27,  1.13s/it, loss=0.024, v_num=b1ls] \n",
            "Validation: 0it [00:00, ?it/s]\u001b[A\n",
            "Validation DataLoader 0:   0% 0/24 [00:00<?, ?it/s]\u001b[A\n",
            "Epoch 27:  98% 230/234 [03:57<00:04,  1.03s/it, loss=0.024, v_num=b1ls]\n",
            "Epoch 27: 100% 234/234 [03:57<00:00,  1.02s/it, loss=0.024, v_num=b1ls]\n",
            "Epoch 27: 100% 234/234 [03:57<00:00,  1.02s/it, loss=0.024, v_num=b1ls]Epoch 27, global step 5880: 'val_Accuracy' was not in top 3\n",
            "Epoch 27: 100% 234/234 [03:57<00:00,  1.02s/it, loss=0.024, v_num=b1ls]\n",
            "\n",
            "\u001b[34m\u001b[1mwandb\u001b[0m: Waiting for W&B process to finish... \u001b[32m(success).\u001b[0m\n",
            "\u001b[34m\u001b[1mwandb\u001b[0m:                                                                                \n",
            "\u001b[34m\u001b[1mwandb\u001b[0m: \n",
            "\u001b[34m\u001b[1mwandb\u001b[0m: Run history:\n",
            "\u001b[34m\u001b[1mwandb\u001b[0m:               epoch ▁▁▁▂▂▂▂▂▂▃▃▃▃▃▄▄▄▄▄▄▅▅▅▅▅▅▆▆▆▆▆▆▇▇▇▇▇███\n",
            "\u001b[34m\u001b[1mwandb\u001b[0m:            lr-AdamW ▁▁▁▁▂▂▂▂▂▃▃▃▃▃▃▄▄▄▄▄▄▅▅▅▅▅▆▆▆▆▆▇▇▇▇▇▇███\n",
            "\u001b[34m\u001b[1mwandb\u001b[0m:          train_loss █▄▃▂▂▂▂▂▂▁▁▁▂▂▁▁▁▁▁▁▁▁▁▁▁▂▁▁▁▁▁▁▁▁▁▁▁▁▁▁\n",
            "\u001b[34m\u001b[1mwandb\u001b[0m: trainer/global_step ▁▁▁▁▂▂▂▂▂▃▃▃▃▃▃▄▄▄▄▄▅▅▅▅▅▅▆▆▆▆▆▇▇▇▇▇▇███\n",
            "\u001b[34m\u001b[1mwandb\u001b[0m:        val_Accuracy ▁▄▅▆▆▇▇▇▇███████████████████\n",
            "\u001b[34m\u001b[1mwandb\u001b[0m:            val_loss █▅▄▃▃▂▂▂▂▁▁▁▁▁▁▁▁▁▁▁▁▁▁▁▁▁▁▁\n",
            "\u001b[34m\u001b[1mwandb\u001b[0m: \n",
            "\u001b[34m\u001b[1mwandb\u001b[0m: Run summary:\n",
            "\u001b[34m\u001b[1mwandb\u001b[0m:               epoch 27\n",
            "\u001b[34m\u001b[1mwandb\u001b[0m:            lr-AdamW 0.00049\n",
            "\u001b[34m\u001b[1mwandb\u001b[0m:          train_loss 0.01641\n",
            "\u001b[34m\u001b[1mwandb\u001b[0m: trainer/global_step 5879\n",
            "\u001b[34m\u001b[1mwandb\u001b[0m:        val_Accuracy 98.58333\n",
            "\u001b[34m\u001b[1mwandb\u001b[0m:            val_loss 0.05418\n",
            "\u001b[34m\u001b[1mwandb\u001b[0m: \n",
            "\u001b[34m\u001b[1mwandb\u001b[0m: Synced \u001b[33mLeNet-2022_04_04-18_35_51\u001b[0m: \u001b[34m\u001b[4mhttps://wandb.ai/nhtlong/vnu-tgmt/runs/3lhzb1ls\u001b[0m\n",
            "\u001b[34m\u001b[1mwandb\u001b[0m: Synced 5 W&B file(s), 0 media file(s), 24 artifact file(s) and 0 other file(s)\n",
            "\u001b[34m\u001b[1mwandb\u001b[0m: Find logs at: \u001b[35m\u001b[1m./runs/wandb/run-20220404_183552-3lhzb1ls/logs\u001b[0m\n"
          ]
        }
      ],
      "source": [
        "%cd $WORKDIR\n",
        "!./tools/train.sh "
      ]
    },
    {
      "cell_type": "code",
      "source": [
        "!./tools/test.sh /content/workspace/runs/vnu-tgmt/ynfxacua/checkpoints/Lenet-epoch=22-val_Accuracy=98.6833.ckpt"
      ],
      "metadata": {
        "colab": {
          "base_uri": "https://localhost:8080/"
        },
        "id": "tCfE8s3h1mcT",
        "outputId": "eb9d661d-2c06-4cfc-df34-686a6ca33cc0"
      },
      "execution_count": 16,
      "outputs": [
        {
          "output_type": "stream",
          "name": "stdout",
          "text": [
            "Overriding configurating\n",
            "Global seed set to 1337\n",
            "Using 16bit native Automatic Mixed Precision (AMP)\n",
            "/usr/local/lib/python3.7/dist-packages/pytorch_lightning/loops/utilities.py:94: PossibleUserWarning: `max_epochs` was not set. Setting it to 1000 epochs. To train without an epoch limit, set `max_epochs=-1`.\n",
            "  category=PossibleUserWarning,\n",
            "GPU available: True, used: True\n",
            "TPU available: False, using: 0 TPU cores\n",
            "IPU available: False, using: 0 IPUs\n",
            "HPU available: False, using: 0 HPUs\n",
            "LOCAL_RANK: 0 - CUDA_VISIBLE_DEVICES: [0]\n",
            "\u001b[2K\u001b[37mTesting\u001b[0m \u001b[35m━━━━━━━━━━━━━━━━━━━━━━━━━━━━━━━━━━\u001b[0m \u001b[37m313/313\u001b[0m \u001b[37m0:00:03 • 0:00:00\u001b[0m \u001b[37m84.96it/s\u001b[0m ┏━━━━━━━━━━━━━━━━━━━━━━━━━━━┳━━━━━━━━━━━━━━━━━━━━━━━━━━━┓\n",
            "┃\u001b[1m \u001b[0m\u001b[1m       Test metric       \u001b[0m\u001b[1m \u001b[0m┃\u001b[1m \u001b[0m\u001b[1m      DataLoader 0       \u001b[0m\u001b[1m \u001b[0m┃\n",
            "┡━━━━━━━━━━━━━━━━━━━━━━━━━━━╇━━━━━━━━━━━━━━━━━━━━━━━━━━━┩\n",
            "│\u001b[36m \u001b[0m\u001b[36m      val_Accuracy       \u001b[0m\u001b[36m \u001b[0m│\u001b[35m \u001b[0m\u001b[35m          98.91          \u001b[0m\u001b[35m \u001b[0m│\n",
            "│\u001b[36m \u001b[0m\u001b[36m        val_loss         \u001b[0m\u001b[36m \u001b[0m│\u001b[35m \u001b[0m\u001b[35m  0.032552123069763184   \u001b[0m\u001b[35m \u001b[0m│\n",
            "└───────────────────────────┴───────────────────────────┘\n",
            "\u001b[2K\u001b[37mTesting\u001b[0m \u001b[35m━━━━━━━━━━━━━━━━━━━━━━━━━━━━━━━━━━\u001b[0m \u001b[37m313/313\u001b[0m \u001b[37m0:00:03 • 0:00:00\u001b[0m \u001b[37m84.96it/s\u001b[0m \n",
            "\u001b[?25h"
          ]
        }
      ]
    }
  ],
  "metadata": {
    "accelerator": "GPU",
    "colab": {
      "collapsed_sections": [],
      "name": "LeNet5.ipynb",
      "provenance": []
    },
    "kernelspec": {
      "display_name": "Python 3",
      "name": "python3"
    },
    "language_info": {
      "name": "python"
    }
  },
  "nbformat": 4,
  "nbformat_minor": 0
}